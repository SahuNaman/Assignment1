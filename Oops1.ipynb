{
 "cells": [
  {
   "cell_type": "code",
   "execution_count": null,
   "id": "f225c568-248c-4d0d-9260-45d8078177b4",
   "metadata": {},
   "outputs": [],
   "source": [
    "Q1. What is Abstraction in OOps? Explain with an example."
   ]
  },
  {
   "cell_type": "code",
   "execution_count": null,
   "id": "0776b952-995e-4b1f-8db2-7c608b784319",
   "metadata": {},
   "outputs": [],
   "source": [
    "Answer------->                                                Abstraction in OOPs\n",
    "\n",
    "                            Objects in an OOP language provide an abstraction that hides the internal implementation details.\n",
    "    \n",
    "    Example-----> when we are driving a car, we are only concerned about driving the car like start/stop the car, accelerate/ break, etc.\n",
    "                  We are not concerned about how the actual start/stop mechanism or accelerate/brake process works internally.\n",
    "                  We are just not interested in those details."
   ]
  },
  {
   "cell_type": "code",
   "execution_count": null,
   "id": "6eacf6f0-b3eb-4273-b24b-04fdfa5701ad",
   "metadata": {},
   "outputs": [],
   "source": [
    "<----------------------------------------------------------------------------------------------------->"
   ]
  },
  {
   "cell_type": "code",
   "execution_count": null,
   "id": "992422d4-76e9-4557-9efe-7a4cc5d6d699",
   "metadata": {},
   "outputs": [],
   "source": [
    "Q2.  Differentiate between Abstraction and Encapsulation. Explain with an example."
   ]
  },
  {
   "cell_type": "code",
   "execution_count": null,
   "id": "f640c2d4-20d3-4588-971e-7819c991042f",
   "metadata": {},
   "outputs": [],
   "source": [
    "Answer------->           Encapsulation\n",
    "                 Encapsulation is defined as the wrapping up of data under a single unit.\n",
    "                 It is the mechanism that binds together code and the data it manipulates.\n",
    "        Example----->  if you have a class that has one or more private fields that you use to store the data, then you are in encapsulation.\n",
    "        \n",
    "                         Abstraction\n",
    "            Abstraction is a method of removing the unnecessary details in the code and focusing on the relevant parts.\n",
    "        Example----->  instead of writing a function that multiplies two numbers,\n",
    "                       we can write a function “multiply” and use it to multiply any number with any number. "
   ]
  },
  {
   "cell_type": "code",
   "execution_count": null,
   "id": "42154d98-2ea1-4147-918d-8a4f6b73b92e",
   "metadata": {},
   "outputs": [],
   "source": [
    "<----------------------------------------------------------------------------------------------------->"
   ]
  },
  {
   "cell_type": "code",
   "execution_count": null,
   "id": "0ebf1a66-bc5c-4751-bc07-3873debe4aef",
   "metadata": {},
   "outputs": [],
   "source": [
    "Q3. What is abc module in python? Why is it used?"
   ]
  },
  {
   "cell_type": "code",
   "execution_count": null,
   "id": "2f0a9ff9-d354-44db-b66f-4ddf655b8798",
   "metadata": {},
   "outputs": [],
   "source": [
    "Answer------->  The 'abc' module in the Python library provides the infrastructure for defining custom abstract base classes.\n",
    "                Abstract class cannot be instantiated in python.\n",
    "                An Abstract method can be call by its subclasses.\n",
    "                Its purpose is to define how other classes should look like, \n",
    "                i.e. what methods and properties they are expected to have."
   ]
  },
  {
   "cell_type": "code",
   "execution_count": null,
   "id": "38640a5e-d5c2-488b-814a-3461c2140531",
   "metadata": {},
   "outputs": [],
   "source": [
    "<----------------------------------------------------------------------------------------------------->"
   ]
  },
  {
   "cell_type": "code",
   "execution_count": null,
   "id": "9467a53d-910b-4279-8ace-e75e95262126",
   "metadata": {},
   "outputs": [],
   "source": [
    "Q4. How can we achieve data abstraction?"
   ]
  },
  {
   "cell_type": "code",
   "execution_count": null,
   "id": "2b46e6ad-7b82-49e3-9e77-6afc354ab90f",
   "metadata": {},
   "outputs": [],
   "source": [
    "Answer-------> In Python, abstraction can be achieved by having/using abstract classes and methods in our programs.\n",
    "               Understanding Abstract Methods and Classes: An abstract method is a method that is declared, but does not contain implementation."
   ]
  },
  {
   "cell_type": "code",
   "execution_count": null,
   "id": "91413d1f-b2ca-4bb1-b966-d09202bb4a94",
   "metadata": {},
   "outputs": [],
   "source": [
    "<----------------------------------------------------------------------------------------------------->"
   ]
  },
  {
   "cell_type": "code",
   "execution_count": null,
   "id": "537a3973-cde5-444d-8117-db5a2661c28d",
   "metadata": {},
   "outputs": [],
   "source": [
    "Q5. Can we create an instance of an abstract class? Explain your answer."
   ]
  },
  {
   "cell_type": "code",
   "execution_count": null,
   "id": "57884c07-3637-4afc-b2da-8dd6e431fcb7",
   "metadata": {},
   "outputs": [],
   "source": [
    "Answer------->"
   ]
  },
  {
   "cell_type": "code",
   "execution_count": null,
   "id": "67ca1e30-483c-4cd5-947f-ab2062a8aa2d",
   "metadata": {},
   "outputs": [],
   "source": [
    "<----------------------------------------------------------------------------------------------------->"
   ]
  }
 ],
 "metadata": {
  "kernelspec": {
   "display_name": "Python 3 (ipykernel)",
   "language": "python",
   "name": "python3"
  },
  "language_info": {
   "codemirror_mode": {
    "name": "ipython",
    "version": 3
   },
   "file_extension": ".py",
   "mimetype": "text/x-python",
   "name": "python",
   "nbconvert_exporter": "python",
   "pygments_lexer": "ipython3",
   "version": "3.10.8"
  }
 },
 "nbformat": 4,
 "nbformat_minor": 5
}
