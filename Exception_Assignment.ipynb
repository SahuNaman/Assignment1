{
 "cells": [
  {
   "cell_type": "code",
   "execution_count": null,
   "id": "2e3815f7-7ec5-414d-bf9c-65d2bc8ab6b1",
   "metadata": {},
   "outputs": [],
   "source": [
    "Q1. What is an Exception in python? Write the difference between Exceptions and syntax errors."
   ]
  },
  {
   "cell_type": "code",
   "execution_count": null,
   "id": "22107103-fc8b-4f60-bc71-344b43ac3978",
   "metadata": {},
   "outputs": [],
   "source": [
    "Answer------------->An exception is an event, which occurs during the execution of a program that disrupts the normal flow of the program's instructions. \n",
    "                    In general, when a Python script encounters a situation that it cannot cope with, it raises an exception.\n",
    "                    An exception is a Python object that represents an error.\n",
    "        \n",
    "        the difference between Exceptions and syntax errors.\n",
    "        \n",
    "    Exceptions---->Exceptions are raised when the program is syntactically correct, but the code results in an error. This error does not stop the execution of the program, however, it changes the normal flow of the program.\n",
    "                       \n",
    "    Syntax Error----> As the name suggests this error is caused by the wrong syntax in the code. It leads to the termination of the program.     "
   ]
  },
  {
   "cell_type": "code",
   "execution_count": null,
   "id": "c7bf62ef-b03d-4e96-a754-04a1733c1c81",
   "metadata": {},
   "outputs": [],
   "source": [
    "<--------------------------------------------------------------------------------------------------------------->"
   ]
  },
  {
   "cell_type": "code",
   "execution_count": null,
   "id": "b11dfb4c-a6ff-434f-b058-03a27e99f10e",
   "metadata": {},
   "outputs": [],
   "source": [
    "Q2. What happens when an exception is not handled? Explain with an example."
   ]
  },
  {
   "cell_type": "code",
   "execution_count": null,
   "id": "d78a6fd2-1a96-4a8d-bab4-561cfadabdb2",
   "metadata": {},
   "outputs": [],
   "source": [
    "Answer------------->If we do not include any code to handle the possible exception, then the program execution will get interrupted.\n",
    " example--> where we try to print the value of the variable that is not present.\n",
    "Here, the identifier 'num' is written wrongly as 'Num' in the print statement."
   ]
  },
  {
   "cell_type": "code",
   "execution_count": null,
   "id": "a316fd2e-9c17-441a-998b-8f42acdb3dd4",
   "metadata": {},
   "outputs": [],
   "source": [
    "<--------------------------------------------------------------------------------------------------------------->"
   ]
  },
  {
   "cell_type": "code",
   "execution_count": null,
   "id": "17199a6c-9030-4b4b-a50b-80f9e536ade7",
   "metadata": {},
   "outputs": [],
   "source": [
    "Q3. Which Python statements are used to catch and handle exceptions? Explain with an example."
   ]
  },
  {
   "cell_type": "code",
   "execution_count": null,
   "id": "c995e569-4ee4-437f-b55a-ed19f8164845",
   "metadata": {},
   "outputs": [],
   "source": [
    "Answer------------->The try and except block in Python is used to catch and handle exceptions.\n",
    "\n",
    "Example--->try:\n",
    "    numerator = 10\n",
    "    denominator = 0\n",
    "\n",
    "    result = numerator/denominator\n",
    "\n",
    "    print(result)\n",
    "except:\n",
    "    print(\"Error: Denominator cannot be 0.\")"
   ]
  },
  {
   "cell_type": "code",
   "execution_count": null,
   "id": "efadda5e-5685-4f0a-94ea-10d0acee796e",
   "metadata": {},
   "outputs": [],
   "source": [
    "<--------------------------------------------------------------------------------------------------------------->"
   ]
  },
  {
   "cell_type": "code",
   "execution_count": null,
   "id": "77932201-bef4-42ca-93a3-37ec0bd8e9c2",
   "metadata": {},
   "outputs": [],
   "source": [
    "Q4. Explain with an example:\n",
    "\n",
    "1. try and else\n",
    "2. finally\n",
    "3. raise"
   ]
  },
  {
   "cell_type": "code",
   "execution_count": null,
   "id": "a1614d5a-0fee-4686-85d4-61640f0bc0c3",
   "metadata": {},
   "outputs": [],
   "source": [
    "Answer------------->1. try and else --->The try block lets you test a block of code for errors.\n",
    "The except block lets you handle the error. The else block lets you execute code when there is no error.\n",
    "The finally block lets you execute code, regardless of the result of the try- and except blocks.\n",
    "\n",
    "                   Example----># program to print the reciprocal of even numbers\n",
    "\n",
    "try:\n",
    "    num = int(input(\"Enter a number: \"))\n",
    "    assert num % 2 == 0\n",
    "except:\n",
    "    print(\"Not an even number!\")\n",
    "else:\n",
    "    reciprocal = 1/num\n",
    "    print(reciprocal)\n",
    "    \n",
    "    \n",
    "2. finally ---->It defines a block of code to run when the try...except...else block is final.\n",
    "\n",
    "The finally block will be executed no matter if the try block raises an error or not.\n",
    "\n",
    "         Example---->  try:\n",
    "  x > 3\n",
    "except:\n",
    "  print(\"Something went wrong\")\n",
    "else:\n",
    "  print(\"Nothing went wrong\")\n",
    "finally:\n",
    "  print(\"The try...except block is finished\")\n",
    "\n",
    "\n",
    "3. raise--->The raise keyword is used to raise an exception. You can define what kind of error to raise, and the text to print to the user.\n",
    "\n",
    "      Example---->  x = \"hello\"\n",
    "\n",
    "if not type(x) is int:\n",
    "  raise TypeError(\"Only integers are allowed\")"
   ]
  },
  {
   "cell_type": "code",
   "execution_count": null,
   "id": "afb52c5e-3944-4db8-9799-14511c53f8f0",
   "metadata": {},
   "outputs": [],
   "source": [
    "<--------------------------------------------------------------------------------------------------------------->"
   ]
  },
  {
   "cell_type": "code",
   "execution_count": null,
   "id": "1adaa8bb-503f-46bb-b5cf-00b990b463ca",
   "metadata": {},
   "outputs": [],
   "source": [
    "Q5. What are Custom Exceptions in python? Why do we need Custom Exceptions? Explain with an example."
   ]
  },
  {
   "cell_type": "code",
   "execution_count": null,
   "id": "860900b3-9c4a-409c-bafa-8c8483c280cf",
   "metadata": {},
   "outputs": [],
   "source": [
    "Answer------------->In Python, we can define custom exceptions by creating a new class that is derived from the built-in Exception class.\n",
    "                    custom exceptions are used to customize the exception according to user need.\n",
    "    \n",
    "    Example-----># define Python user-defined exceptions\n",
    "class InvalidAgeException(Exception):\n",
    "    \"Raised when the input value is less than 18\"\n",
    "    pass\n",
    "\n",
    "# you need to guess this number\n",
    "number = 18\n",
    "\n",
    "try:\n",
    "    input_num = int(input(\"Enter a number: \"))\n",
    "    if input_num < number:\n",
    "        raise InvalidAgeException\n",
    "    else:\n",
    "        print(\"Eligible to Vote\")\n",
    "        \n",
    "except InvalidAgeException:\n",
    "    print(\"Exception occurred: Invalid Age\")\n"
   ]
  },
  {
   "cell_type": "code",
   "execution_count": null,
   "id": "b088d7aa-5572-4fa2-ac47-c5c0be7f8277",
   "metadata": {},
   "outputs": [],
   "source": [
    "<--------------------------------------------------------------------------------------------------------------->"
   ]
  },
  {
   "cell_type": "code",
   "execution_count": null,
   "id": "63c875e5-85b1-4777-9a8a-2cecceb1d657",
   "metadata": {},
   "outputs": [],
   "source": [
    "Q6. Create custom exception class. Use this class to handle an exception.\n",
    "Answer-------------># define Python user-defined exceptions\n",
    "class InvalidAgeException(Exception):\n",
    "    \"Raised when the input value is less than 18\"\n",
    "    pass\n",
    "\n",
    "# you need to guess this number\n",
    "number = 18\n",
    "\n",
    "try:\n",
    "    input_num = int(input(\"Enter a number: \"))\n",
    "    if input_num < number:\n",
    "        raise InvalidAgeException\n",
    "    else:\n",
    "        print(\"Eligible to Vote\")\n",
    "        \n",
    "except InvalidAgeException:\n",
    "    print(\"Exception occurred: Invalid Age\")"
   ]
  },
  {
   "cell_type": "code",
   "execution_count": null,
   "id": "15d19db2-e14c-4818-a4a0-ec5a5cc039e2",
   "metadata": {},
   "outputs": [],
   "source": [
    "Answer-------------># define Python user-defined exceptions\n",
    "class InvalidAgeException(Exception):\n",
    "    \"Raised when the input value is less than 18\"\n",
    "    pass\n",
    "\n",
    "# you need to guess this number\n",
    "number = 18\n",
    "\n",
    "try:\n",
    "    input_num = int(input(\"Enter a number: \"))\n",
    "    if input_num < number:\n",
    "        raise InvalidAgeException\n",
    "    else:\n",
    "        print(\"Eligible to Vote\")\n",
    "        \n",
    "except InvalidAgeException:\n",
    "    print(\"Exception occurred: Invalid Age\")\n",
    "    \n",
    "    \n",
    "    <----------------------------->\n",
    "    \n",
    "    "
   ]
  },
  {
   "cell_type": "code",
   "execution_count": null,
   "id": "09318c1c-1cd9-485d-a405-05cda04a5899",
   "metadata": {},
   "outputs": [],
   "source": [
    "<--------------------------------------------------------------------------------------------------------------->"
   ]
  }
 ],
 "metadata": {
  "kernelspec": {
   "display_name": "Python 3 (ipykernel)",
   "language": "python",
   "name": "python3"
  },
  "language_info": {
   "codemirror_mode": {
    "name": "ipython",
    "version": 3
   },
   "file_extension": ".py",
   "mimetype": "text/x-python",
   "name": "python",
   "nbconvert_exporter": "python",
   "pygments_lexer": "ipython3",
   "version": "3.10.8"
  }
 },
 "nbformat": 4,
 "nbformat_minor": 5
}
