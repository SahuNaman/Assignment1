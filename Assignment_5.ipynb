{
 "cells": [
  {
   "cell_type": "code",
   "execution_count": null,
   "id": "2976521f-5772-44fb-b67a-5f608d09fffc",
   "metadata": {},
   "outputs": [],
   "source": [
    "Q1. Explain Class and Object with respect to Object-Oriented Programming. Give a suitable example."
   ]
  },
  {
   "cell_type": "code",
   "execution_count": null,
   "id": "c9227371-3b00-467e-b14b-eced4fe71853",
   "metadata": {},
   "outputs": [],
   "source": [
    "Answer ----> Class\n",
    "\n",
    "A class is a way of organizing information about a type of data so a programmer can reuse elements when making multiple instances of that data type.\n",
    "\n",
    "for example--> if a programmer wanted to make three instances of Car , maybe a BMW, a Ferrari, and a Ford instance.\n",
    "\n",
    "-------------> Object\n",
    "\n",
    "Objects are the things you think about first in designing a program and they are also the units of code that are eventually derived from the process.\n",
    "\n",
    "for example--> Big_car = Car\n",
    "            Here , Big_car is a object of Car"
   ]
  },
  {
   "cell_type": "code",
   "execution_count": null,
   "id": "6e5667ab-2c6b-40e6-aa7f-47dbf83432cc",
   "metadata": {},
   "outputs": [],
   "source": [
    "<------------------------------------------------------------------------------>"
   ]
  },
  {
   "cell_type": "code",
   "execution_count": null,
   "id": "d8ffd9a6-c4d6-41cd-95d5-805d5f5ffbe9",
   "metadata": {},
   "outputs": [],
   "source": [
    "Q2. Name the four pillars of OOPs."
   ]
  },
  {
   "cell_type": "code",
   "execution_count": null,
   "id": "deaa7b15-992f-46a4-9623-1e6cb4ed54d8",
   "metadata": {},
   "outputs": [],
   "source": [
    "Answer ---->   1. Encapsulation\n",
    "               2. Abstraction\n",
    "               3. Inheritance\n",
    "               4. Polymorphism"
   ]
  },
  {
   "cell_type": "code",
   "execution_count": null,
   "id": "b8522358-5b7f-405d-9393-1177a8fc44d5",
   "metadata": {},
   "outputs": [],
   "source": [
    "<------------------------------------------------------------------------------>"
   ]
  },
  {
   "cell_type": "code",
   "execution_count": null,
   "id": "4179a260-3d85-4976-a1cc-d324221eb305",
   "metadata": {},
   "outputs": [],
   "source": [
    "Q3. Explain why the __init__() function is used. Give a suitable example."
   ]
  },
  {
   "cell_type": "code",
   "execution_count": null,
   "id": "77f37abd-73d4-4cf6-81c4-67cd4100a5d8",
   "metadata": {},
   "outputs": [],
   "source": [
    "Answer ----> The __init__() returns the initial result of the aggregate, which is of the state type. The INIT function can take one or two arguments.\n",
    "\n",
    "Example -->  \n",
    "\n",
    "    class Teacher:\n",
    "    # definition for init method or constructor\n",
    "    def __init__(self, name, subject):\n",
    "        self.name = name\n",
    "        self.subject = subject\n",
    "     # Random member function\n",
    "    def show(self):\n",
    "        print(self.name, \" teaches \", self.subject)\n",
    "         T = Teacher('Preeti Srivastava', \"Computer Science\")   # init is invoked here\n",
    "T.show()"
   ]
  },
  {
   "cell_type": "code",
   "execution_count": null,
   "id": "ec3d2c67-5cd9-4d88-88b1-49ab3f64de6e",
   "metadata": {},
   "outputs": [],
   "source": [
    "<------------------------------------------------------------------------------>"
   ]
  },
  {
   "cell_type": "code",
   "execution_count": null,
   "id": "3af49f9a-e19c-43cb-85f5-e921f67d2296",
   "metadata": {},
   "outputs": [],
   "source": [
    "Q4. Why self is used in OOPs?"
   ]
  },
  {
   "cell_type": "code",
   "execution_count": null,
   "id": "c7bfe72d-5751-4451-b52f-6ead59f2507a",
   "metadata": {},
   "outputs": [],
   "source": [
    "Answer ----> Python uses the self parameter to refer to instance attributes and methods of the class.\n",
    "             It works as a reference to the object."
   ]
  },
  {
   "cell_type": "code",
   "execution_count": null,
   "id": "616c3f78-83cf-407e-9a80-48b6425196cd",
   "metadata": {},
   "outputs": [],
   "source": [
    "<------------------------------------------------------------------------------>"
   ]
  },
  {
   "cell_type": "code",
   "execution_count": null,
   "id": "4807ee72-4ffb-415a-9621-55e90a6281b4",
   "metadata": {},
   "outputs": [],
   "source": [
    "Q5. What is inheritance? Give an example for each type of inheritance."
   ]
  },
  {
   "cell_type": "code",
   "execution_count": null,
   "id": "30e3ec4f-bef4-4769-83a2-5960d32d6c5a",
   "metadata": {},
   "outputs": [],
   "source": [
    "Answer ----> Inheritance is the process by which genetic information is passed on from parent to child.\n",
    "              <-----------------Type Of Inheritance-------------------------->\n",
    "    1. Single inheritance --> Single inheritance is one of the types of inheritance in Python, where there is only one base class and one child class.\n",
    "                  Example --> # Base class\n",
    "\n",
    "class Father:\n",
    "\n",
    "    def function_1(self):\n",
    "        print ('I am father.')\n",
    "\n",
    "# Child class\n",
    "\n",
    "class Children(Father):\n",
    "\n",
    "    def function_2(self):\n",
    "        print ('I am son.')\n",
    "\n",
    "object = Children()\n",
    "object.function_1()\n",
    "object.function_2()\n",
    "\n",
    "<-------------------------------------------------------------------------------------------------------------------->\n",
    "\n",
    "2. Multiple inheritances --> Multiple inheritances are another types of inheritance in Python, which refer to deriving a class from multiple base classes\n",
    "               Example --> # Base class1\n",
    "class A:\n",
    "\n",
    "    aname = ''\n",
    "\n",
    "    def aclass(self):\n",
    "        print (self.aname)\n",
    "\n",
    "# Base class2\n",
    "\n",
    "class B:\n",
    "\n",
    "    bname = ''\n",
    "\n",
    "    def bclass(self):\n",
    "        print (self.bname)\n",
    "\n",
    "# Child class\n",
    "\n",
    "class C(A, B):\n",
    "\n",
    "    def cname(self):\n",
    "        print ('B :', self.bname)\n",
    "        print ('A :', self.aname)\n",
    "\n",
    "s1 = C()\n",
    "s1.bname = 'Mohit'\n",
    "s1.aname = 'Ashutosh'\n",
    "s1.cname()\n",
    "\n",
    "<----------------------------------------------------------------------------------------->\n",
    "\n",
    "3. Multilevel Inheritance --> When there are multiple levels of inheritance, the new derived class receives an additional inheritance from both the base class and the derived class.\n",
    "This type of inheritance in Python is referred to as multilevel inheritance.\n",
    "           Example --> class A:\n",
    "\n",
    "    def __init__(self, aname):\n",
    "        self.aname = aname\n",
    "\n",
    "# Intermediate class\n",
    "\n",
    "class B(A):\n",
    "\n",
    "    def __init__(self, bname, aname):\n",
    "        self.bname = bname\n",
    "\n",
    "        # invoking constructor of Grandfather class\n",
    "\n",
    "        A.__init__(self, aname)\n",
    "\n",
    "# Derived class\n",
    "\n",
    "class C(B):\n",
    "\n",
    "    def __init__(\n",
    "        self,\n",
    "        cname,\n",
    "        bname,\n",
    "        aname,\n",
    "        ):\n",
    "        self.cname = cname\n",
    "\n",
    "        # Invoking constructor of Father class\n",
    "\n",
    "        B.__init__(self, bname, aname)\n",
    "\n",
    "    def display(self):\n",
    "        print ('A name :', self.aname)\n",
    "        print ('B name :', self.bname)\n",
    "        print ('C name :', self.cname)\n",
    "\n",
    "# Driver code\n",
    "\n",
    "s1 = C('Rohit', 'Mohit', 'Lalit')\n",
    "print (s1.aname)\n",
    "s1.display()\n",
    "<------------------------------------------------------------------------------------------------------>\n",
    "\n",
    "4 . Hierarchical Inheritance --> Hierarchical inheritance is the term used to describe situations with multiple derived classes from a single base class.\n",
    "              Example --> # Base class\n",
    "\n",
    "class A:\n",
    "\n",
    "    def function_1(self):\n",
    "        print ('Parent of B and C')\n",
    "\n",
    "# Derived class1\n",
    "\n",
    "class B(A):\n",
    "\n",
    "    def function_2(self):\n",
    "        print ('Child class of A')\n",
    "\n",
    "# Derivied class2\n",
    "\n",
    "class C(A):\n",
    "\n",
    "    def function_3(self):\n",
    "        print ('Child class of A')\n",
    "\n",
    "object1 = C()\n",
    "object2 = B()\n",
    "object1.function_1()\n",
    "object1.function_3()\n",
    "object2.function_1()\n",
    "object2.function_2()\n",
    "<------------------------------------------------------------------------------------------------------>\n",
    "\n",
    "5. "
   ]
  },
  {
   "cell_type": "code",
   "execution_count": null,
   "id": "7d78cc5f-dec2-4ba5-a0b4-96995bf0d920",
   "metadata": {},
   "outputs": [],
   "source": [
    "<------------------------------------------------------------------------------>"
   ]
  }
 ],
 "metadata": {
  "kernelspec": {
   "display_name": "Python 3 (ipykernel)",
   "language": "python",
   "name": "python3"
  },
  "language_info": {
   "codemirror_mode": {
    "name": "ipython",
    "version": 3
   },
   "file_extension": ".py",
   "mimetype": "text/x-python",
   "name": "python",
   "nbconvert_exporter": "python",
   "pygments_lexer": "ipython3",
   "version": "3.10.8"
  }
 },
 "nbformat": 4,
 "nbformat_minor": 5
}
