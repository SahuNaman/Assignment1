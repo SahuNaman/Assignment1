{
 "cells": [
  {
   "cell_type": "code",
   "execution_count": null,
   "id": "c3641c3f-3327-41a2-bdae-106fbd507bd9",
   "metadata": {},
   "outputs": [],
   "source": [
    "Q1. Create a Pandas Series that contains the following data: 4, 8, 15, 16, 23, and 42. Then, print the series."
   ]
  },
  {
   "cell_type": "code",
   "execution_count": 3,
   "id": "00dfac0f-fa92-4368-acc6-4676668b8da9",
   "metadata": {},
   "outputs": [
    {
     "name": "stdout",
     "output_type": "stream",
     "text": [
      "0     4\n",
      "1     8\n",
      "2    15\n",
      "3    16\n",
      "4    23\n",
      "5    42\n",
      "dtype: int64\n"
     ]
    }
   ],
   "source": [
    "import pandas as pd\n",
    "d = pd.Series(data=[4,8,15,16,23,42])\n",
    "print(d)"
   ]
  },
  {
   "cell_type": "code",
   "execution_count": null,
   "id": "697cb531-d52a-4b26-af3e-167ca18b7252",
   "metadata": {},
   "outputs": [],
   "source": [
    "Q2. Create a variable of list type containing 10 elements in it, and apply pandas.Series function on the\n",
    "variable print it."
   ]
  },
  {
   "cell_type": "code",
   "execution_count": 5,
   "id": "a4ab27a3-d865-4c77-a537-6815ddac5e04",
   "metadata": {},
   "outputs": [
    {
     "data": {
      "text/plain": [
       "0     1\n",
       "1     3\n",
       "2     4\n",
       "3     5\n",
       "4     6\n",
       "5     7\n",
       "6    89\n",
       "7     2\n",
       "8    34\n",
       "9     5\n",
       "dtype: int64"
      ]
     },
     "execution_count": 5,
     "metadata": {},
     "output_type": "execute_result"
    }
   ],
   "source": [
    "import pandas as pd \n",
    "list = [1,3,4,5,6,7,89,2,34,5]\n",
    "pd.Series(list)"
   ]
  },
  {
   "cell_type": "code",
   "execution_count": null,
   "id": "a8c3783f",
   "metadata": {},
   "outputs": [],
   "source": [
    "Q3. Create a Pandas DataFrame that contains the following data:\n",
    "\n",
    "Then, print the DataFrame."
   ]
  },
  {
   "cell_type": "code",
   "execution_count": 7,
   "id": "5482c31a-63d9-4f7a-a810-c2ef63b58aad",
   "metadata": {},
   "outputs": [
    {
     "data": {
      "text/html": [
       "<div>\n",
       "<style scoped>\n",
       "    .dataframe tbody tr th:only-of-type {\n",
       "        vertical-align: middle;\n",
       "    }\n",
       "\n",
       "    .dataframe tbody tr th {\n",
       "        vertical-align: top;\n",
       "    }\n",
       "\n",
       "    .dataframe thead th {\n",
       "        text-align: right;\n",
       "    }\n",
       "</style>\n",
       "<table border=\"1\" class=\"dataframe\">\n",
       "  <thead>\n",
       "    <tr style=\"text-align: right;\">\n",
       "      <th></th>\n",
       "      <th>Name</th>\n",
       "      <th>Age</th>\n",
       "      <th>Gender</th>\n",
       "    </tr>\n",
       "  </thead>\n",
       "  <tbody>\n",
       "    <tr>\n",
       "      <th>0</th>\n",
       "      <td>Alice</td>\n",
       "      <td>25</td>\n",
       "      <td>Female</td>\n",
       "    </tr>\n",
       "    <tr>\n",
       "      <th>1</th>\n",
       "      <td>Bob</td>\n",
       "      <td>30</td>\n",
       "      <td>Male</td>\n",
       "    </tr>\n",
       "    <tr>\n",
       "      <th>2</th>\n",
       "      <td>Claire</td>\n",
       "      <td>27</td>\n",
       "      <td>Female</td>\n",
       "    </tr>\n",
       "  </tbody>\n",
       "</table>\n",
       "</div>"
      ],
      "text/plain": [
       "     Name  Age  Gender\n",
       "0   Alice   25  Female\n",
       "1     Bob   30    Male\n",
       "2  Claire   27  Female"
      ]
     },
     "execution_count": 7,
     "metadata": {},
     "output_type": "execute_result"
    }
   ],
   "source": [
    "import pandas as pd \n",
    "pd.DataFrame({'Name':['Alice','Bob','Claire'],\n",
    "              'Age':[25,30,27],\n",
    "              'Gender':['Female','Male','Female']})"
   ]
  },
  {
   "cell_type": "code",
   "execution_count": null,
   "id": "fd2428ff-0986-4dae-8d3e-cc82412fd9ff",
   "metadata": {},
   "outputs": [],
   "source": [
    "Q4. What is ‘DataFrame’ in pandas and how is it different from pandas.series? Explain with an example."
   ]
  },
  {
   "cell_type": "code",
   "execution_count": null,
   "id": "ff83f1fa-6984-49db-abeb-5c024e568229",
   "metadata": {},
   "outputs": [],
   "source": [
    "A Pandas DataFrame is a 2 dimensional data structure, like a 2 dimensional array, or a table with rows and columns.\n",
    "\n",
    "Differences-->  A Pandas Series is a 1D array of data. A Series has to have an index defined\n",
    "                DataFrame is a 2D table with one column. An index can be optional.\n",
    "    Example -\n",
    "    \n",
    "import pandas as pd\n",
    "r = pd.Series([1,23,4,5,67,8,9,11])\n",
    "s = pd.Series([2,34,5,6,7,89,22,11])\n",
    "pd.DataFrame({\"N\": r,\"S\":s})\n"
   ]
  },
  {
   "cell_type": "code",
   "execution_count": null,
   "id": "360d6448-5135-4487-aa80-9ce96371fefe",
   "metadata": {},
   "outputs": [],
   "source": [
    "Q5. What are some common functions you can use to manipulate data in a Pandas DataFrame? Can\n",
    "you give an example of when you might use one of these functions?"
   ]
  },
  {
   "cell_type": "code",
   "execution_count": null,
   "id": "c3ed8094-247d-491b-a1cb-460352f18459",
   "metadata": {},
   "outputs": [],
   "source": [
    "Answer--> 1. read_csv()\n",
    "          2. head()\n",
    "          3. describe()\n",
    "         4. memory_usage()\n",
    "        5. astype()\n",
    "        6. loc[:]\n",
    "        7. to_datetime()\n",
    "        8. value_counts()\n",
    "        9. drop_duplicates()\n",
    "        10. groupby()\n",
    "        11. merge()\n",
    "        12. sort_values()\n",
    "        13. fillna()\n",
    "        \n",
    "        \n",
    "Example -->\n",
    "\n",
    "\n",
    "import pandas as pd \n",
    "ns = pd.DataFrame({'Name':['Alice','Bob','Claire'],\n",
    "              'Age':[25,30,27],\n",
    "              'Gender':['Female','Male','Female']})\n",
    "ns.head()"
   ]
  },
  {
   "cell_type": "code",
   "execution_count": null,
   "id": "ebef56ff-574e-4b48-9ad8-5ebabdb62cf2",
   "metadata": {},
   "outputs": [],
   "source": [
    "Q6. Which of the following is mutable in nature Series, DataFrame, Panel?"
   ]
  },
  {
   "cell_type": "code",
   "execution_count": null,
   "id": "c74b0f4f-7c61-44ca-af20-769fab8ee409",
   "metadata": {},
   "outputs": [],
   "source": [
    "Answer--> Panel & Dataframe are mutable in nature."
   ]
  },
  {
   "cell_type": "code",
   "execution_count": null,
   "id": "c6e2d3aa-9e5b-4551-8d2e-1724ed66c073",
   "metadata": {},
   "outputs": [],
   "source": [
    "Q7. Create a DataFrame using multiple Series. Explain with an example."
   ]
  },
  {
   "cell_type": "code",
   "execution_count": 11,
   "id": "8b057f44-4325-43f1-b025-b99a950e27b6",
   "metadata": {},
   "outputs": [
    {
     "data": {
      "text/html": [
       "<div>\n",
       "<style scoped>\n",
       "    .dataframe tbody tr th:only-of-type {\n",
       "        vertical-align: middle;\n",
       "    }\n",
       "\n",
       "    .dataframe tbody tr th {\n",
       "        vertical-align: top;\n",
       "    }\n",
       "\n",
       "    .dataframe thead th {\n",
       "        text-align: right;\n",
       "    }\n",
       "</style>\n",
       "<table border=\"1\" class=\"dataframe\">\n",
       "  <thead>\n",
       "    <tr style=\"text-align: right;\">\n",
       "      <th></th>\n",
       "      <th>N</th>\n",
       "      <th>S</th>\n",
       "    </tr>\n",
       "  </thead>\n",
       "  <tbody>\n",
       "    <tr>\n",
       "      <th>0</th>\n",
       "      <td>1</td>\n",
       "      <td>2</td>\n",
       "    </tr>\n",
       "    <tr>\n",
       "      <th>1</th>\n",
       "      <td>23</td>\n",
       "      <td>34</td>\n",
       "    </tr>\n",
       "    <tr>\n",
       "      <th>2</th>\n",
       "      <td>4</td>\n",
       "      <td>5</td>\n",
       "    </tr>\n",
       "    <tr>\n",
       "      <th>3</th>\n",
       "      <td>5</td>\n",
       "      <td>6</td>\n",
       "    </tr>\n",
       "    <tr>\n",
       "      <th>4</th>\n",
       "      <td>67</td>\n",
       "      <td>7</td>\n",
       "    </tr>\n",
       "    <tr>\n",
       "      <th>5</th>\n",
       "      <td>8</td>\n",
       "      <td>89</td>\n",
       "    </tr>\n",
       "    <tr>\n",
       "      <th>6</th>\n",
       "      <td>9</td>\n",
       "      <td>22</td>\n",
       "    </tr>\n",
       "    <tr>\n",
       "      <th>7</th>\n",
       "      <td>11</td>\n",
       "      <td>11</td>\n",
       "    </tr>\n",
       "  </tbody>\n",
       "</table>\n",
       "</div>"
      ],
      "text/plain": [
       "    N   S\n",
       "0   1   2\n",
       "1  23  34\n",
       "2   4   5\n",
       "3   5   6\n",
       "4  67   7\n",
       "5   8  89\n",
       "6   9  22\n",
       "7  11  11"
      ]
     },
     "execution_count": 11,
     "metadata": {},
     "output_type": "execute_result"
    }
   ],
   "source": [
    "import pandas as pd\n",
    "r = pd.Series([1,23,4,5,67,8,9,11])\n",
    "s = pd.Series([2,34,5,6,7,89,22,11])\n",
    "pd.DataFrame({\"N\": r,\"S\":s})\n",
    "\n",
    "\n",
    "Explanation--------->  Two series makes one DataFrame. "
   ]
  },
  {
   "cell_type": "code",
   "execution_count": null,
   "id": "ca8a23fc-5ebb-4902-9028-67c999780d44",
   "metadata": {},
   "outputs": [],
   "source": []
  }
 ],
 "metadata": {
  "kernelspec": {
   "display_name": "Python 3 (ipykernel)",
   "language": "python",
   "name": "python3"
  },
  "language_info": {
   "codemirror_mode": {
    "name": "ipython",
    "version": 3
   },
   "file_extension": ".py",
   "mimetype": "text/x-python",
   "name": "python",
   "nbconvert_exporter": "python",
   "pygments_lexer": "ipython3",
   "version": "3.10.8"
  }
 },
 "nbformat": 4,
 "nbformat_minor": 5
}
