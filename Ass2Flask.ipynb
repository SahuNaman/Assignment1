{
 "cells": [
  {
   "cell_type": "code",
   "execution_count": null,
   "id": "2b9a464f-0d7c-46c7-b7a0-fd96db5c8a73",
   "metadata": {},
   "outputs": [],
   "source": [
    "Q1. Explain GET and POST methods."
   ]
  },
  {
   "cell_type": "code",
   "execution_count": null,
   "id": "fa2ad2cf-3871-4fa4-9a78-bc4b22cdbc41",
   "metadata": {},
   "outputs": [],
   "source": [
    "Answer----> In GET method we can not send large amount of data rather limited data is sent because the request parameter is appended into the URL.\n",
    "         GET request is comparatively less secure because the data is exposed in the URL bar.        \n",
    "    In POST method large amount of data can be sent because the request parameter is appended into the body.\n",
    "    \tPOST request is comparatively more secure because the data is not exposed in the URL bar."
   ]
  },
  {
   "cell_type": "code",
   "execution_count": null,
   "id": "5df222c9-ce39-4c2a-8f3e-a0e38ba866be",
   "metadata": {},
   "outputs": [],
   "source": [
    "<----------------------------------------------------------------------------------------------------------------->"
   ]
  },
  {
   "cell_type": "code",
   "execution_count": null,
   "id": "df99a212-a0f9-4fc9-9feb-2e5fd83cd932",
   "metadata": {},
   "outputs": [],
   "source": [
    "Q2. Why is request used in Flask?"
   ]
  },
  {
   "cell_type": "code",
   "execution_count": null,
   "id": "142b9eba-1447-40b4-8430-970f8fce5363",
   "metadata": {},
   "outputs": [],
   "source": [
    "Answer-----> The Request in Flask, is an object that contains all the data sent from the Client to Server.\n",
    "             The Request is used in Flask for fetching data from Client as well as Server."
   ]
  },
  {
   "cell_type": "code",
   "execution_count": null,
   "id": "ae23cf72-ce33-42dd-8438-51b599bb664d",
   "metadata": {},
   "outputs": [],
   "source": [
    "<----------------------------------------------------------------------------------------------------------------->"
   ]
  },
  {
   "cell_type": "code",
   "execution_count": null,
   "id": "39a4ebab-8bf0-40cc-99a2-cdb9c48bbf28",
   "metadata": {},
   "outputs": [],
   "source": [
    "Q3. Why is redirect() used in Flask?"
   ]
  },
  {
   "cell_type": "code",
   "execution_count": null,
   "id": "a4b952c5-e89b-4208-8954-a75ac52c98f0",
   "metadata": {},
   "outputs": [],
   "source": [
    "Answer----->Flask redirect is defined as a function or utility in Flask which allows developers to redirect users to a specified URL and assign a specified status code. "
   ]
  },
  {
   "cell_type": "code",
   "execution_count": null,
   "id": "2c3390db-3580-4c2b-bf02-cb160f651451",
   "metadata": {},
   "outputs": [],
   "source": [
    "<----------------------------------------------------------------------------------------------------------------->"
   ]
  },
  {
   "cell_type": "code",
   "execution_count": null,
   "id": "bb620f07-9a33-4a3b-8e2f-7c882798303f",
   "metadata": {},
   "outputs": [],
   "source": [
    "Q4. What are templates in Flask? Why is the render_template() function used?"
   ]
  },
  {
   "cell_type": "code",
   "execution_count": null,
   "id": "0b3a02e5-57b0-4725-8978-9a6cf2547b79",
   "metadata": {},
   "outputs": [],
   "source": [
    "Answer-----> Templates are files that contain static data as well as placeholders for dynamic data.\n",
    "A template is rendered with specific data to produce a final document. Flask uses the Jinja template library to render templates.\n",
    "\n",
    "render_template is a Flask function from the flask. templating package. \n",
    "render_template is used to generate output from a template file based on the Jinja2 engine that is found in the application's templates folder."
   ]
  },
  {
   "cell_type": "code",
   "execution_count": null,
   "id": "338e72e9-aa25-4180-b95c-7dfa2506de75",
   "metadata": {},
   "outputs": [],
   "source": [
    "<----------------------------------------------------------------------------------------------------------------->"
   ]
  },
  {
   "cell_type": "code",
   "execution_count": null,
   "id": "be5b75a0-2ccb-485f-b74a-9bdf9cdd0545",
   "metadata": {},
   "outputs": [],
   "source": [
    "Q5. Create a simple API. Use Postman to test it. Attach the screenshot of the output in the Jupyter Notebook."
   ]
  },
  {
   "cell_type": "code",
   "execution_count": null,
   "id": "7c7ddb21-e123-4706-8f89-977b6f0a47b8",
   "metadata": {},
   "outputs": [],
   "source": [
    "Answer-----> "
   ]
  },
  {
   "cell_type": "code",
   "execution_count": null,
   "id": "3d482961-6550-46a4-bd9b-3387ee0e5ad0",
   "metadata": {},
   "outputs": [],
   "source": [
    "<----------------------------------------------------------------------------------------------------------------->"
   ]
  }
 ],
 "metadata": {
  "kernelspec": {
   "display_name": "Python 3 (ipykernel)",
   "language": "python",
   "name": "python3"
  },
  "language_info": {
   "codemirror_mode": {
    "name": "ipython",
    "version": 3
   },
   "file_extension": ".py",
   "mimetype": "text/x-python",
   "name": "python",
   "nbconvert_exporter": "python",
   "pygments_lexer": "ipython3",
   "version": "3.10.8"
  }
 },
 "nbformat": 4,
 "nbformat_minor": 5
}
